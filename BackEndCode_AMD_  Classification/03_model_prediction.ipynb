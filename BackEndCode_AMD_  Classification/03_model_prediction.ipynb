{
 "cells": [
  {
   "cell_type": "markdown",
   "id": "f2995202",
   "metadata": {},
   "source": [
    "## Packages to be imported"
   ]
  },
  {
   "cell_type": "code",
   "execution_count": 1,
   "id": "98b44959",
   "metadata": {},
   "outputs": [],
   "source": [
    "import os\n",
    "import cv2\n",
    "import random\n",
    "import pickle\n",
    "import numpy as np\n",
    "import pandas as pd\n",
    "import seaborn as sns\n",
    "from pylab import rcParams\n",
    "from datetime import datetime\n",
    "import matplotlib.pyplot as plt\n",
    "from skimage.transform import resize\n",
    "get_ipython().run_line_magic('matplotlib', 'inline') ###\n",
    "################################################################################\n",
    "import tensorflow\n",
    "import tensorflow as tf\n",
    "from tensorflow import keras\n",
    "from tensorflow.keras.utils import to_categorical\n",
    "################################################################################\n",
    "from keras import layers,utils\n",
    "from keras.datasets import cifar100\n",
    "from keras.models import Sequential,load_model\n",
    "from tensorflow.keras.optimizers import Adam, RMSprop, SGD\n",
    "from keras.preprocessing.image import ImageDataGenerator\n",
    "from keras.callbacks import Callback, EarlyStopping, ModelCheckpoint,ReduceLROnPlateau\n",
    "from tensorflow.keras.models import Model\n",
    "from tensorflow.keras.layers import BatchNormalization, Dense, Dropout, Activation, Flatten,Conv2D,MaxPooling2D, MaxPool2D,Add, concatenate\n",
    "from tensorflow.keras.layers import Conv2D, MaxPooling2D,LeakyReLU, Dense, InputLayer,Dropout, Activation, Flatten,Input, BatchNormalization, Conv2D, MaxPool2D, GlobalMaxPool2D,GlobalAveragePooling2D\n",
    "from tensorflow.keras.applications import VGG16, MobileNet, ResNet50, InceptionV3, Xception, VGG19,ResNet101\n",
    "# from sklearn.metrics import plot_confusion_matrix\n",
    "from sklearn.metrics import confusion_matrix, classification_report\n",
    "from tensorflow import keras\n",
    "from tensorflow.keras import models\n",
    "from tensorflow.keras.applications.inception_v3 import InceptionV3, preprocess_input\n",
    "from tensorflow.keras.applications.resnet50 import ResNet50, preprocess_input\n",
    "from tensorflow.keras.applications.vgg16 import VGG16, preprocess_input\n",
    "################################################################################\n",
    "import gc"
   ]
  },
  {
   "cell_type": "code",
   "execution_count": 2,
   "id": "c9241832",
   "metadata": {},
   "outputs": [],
   "source": [
    "# Global_Variables\n",
    "\n",
    "# Dictionary for the classes and their labels\n",
    "grades_classes_dict = {\n",
    "    0 : 'GA',\n",
    "    1 : 'Intermediate',\n",
    "    2 : 'Normal',\n",
    "    3 : 'Wet',\n",
    "}\n",
    "# Path for the model \n",
    "model_path = './models/AMD_SA_ResNet50_SGD_TF_final.h5'\n",
    "# Path for the image to be classified\n",
    "image_path = './test_images/Wet_test.JPG'\n",
    "# Input image size required for the model\n",
    "target_size = (448,448)"
   ]
  },
  {
   "cell_type": "code",
   "execution_count": 3,
   "id": "360504fe",
   "metadata": {},
   "outputs": [],
   "source": [
    "# Function to load the model:\n",
    "def load_model(model_path):\n",
    "    try:\n",
    "        model = tf.keras.models.load_model(model_path)\n",
    "        print(f\"(✔) Model with name of '{model_path.split('/')[-1]}' is Successfuly Loaded....\")\n",
    "    except :\n",
    "        print(f'(X) Cannot find the model in this path {model_path}')\n",
    "        return None\n",
    "    return model\n",
    "\n",
    "# Function to load an image:\n",
    "def load_image(image_path):\n",
    "    try:\n",
    "        # Image is loaded in BGR, so we need to convert it to RGB\n",
    "        image = cv2.imread(image_path)\n",
    "        image = cv2.cvtColor(image, cv2.COLOR_BGR2RGB)\n",
    "\n",
    "        print(f\"(✔) Image with name of '{image_path.split('/')[-1]}' is Successfuly Loaded with size of {image.shape}....\")\n",
    "    except:\n",
    "        print(f'(X) Cannot find the image in this path {image_path}')\n",
    "        return None\n",
    "    return image\n",
    "\n",
    "# Function to preprocess image by resizing it to target size and adding one dimension to be 4d\n",
    "def preprocess_image(image , target_size):\n",
    "    try:\n",
    "        # (a) resizing image\n",
    "        resized_image = cv2.resize(image , target_size)\n",
    "        print(f\"(✔) Resizing image from {image.shape} to {resized_image.shape} is Successfuly Done....\")\n",
    "        # (b) converting to 4d image\n",
    "        expanded_image = np.expand_dims(resized_image, axis=0)\n",
    "        print(f\"(✔) Expanding image from '{len(resized_image.shape)}d' to '{len(expanded_image.shape)}d' is Successfuly Done....\")\n",
    "        # (c) normalization\n",
    "        normalized_image = expanded_image / 255.0\n",
    "        print(f\"(✔) Normalization for conversion of pixel values to [0.0,1.0] is Successfuly Done....\")   \n",
    "    except:\n",
    "        print('(X) Error while preprocessing the image...')\n",
    "        return None\n",
    "    return normalized_image\n",
    "\n",
    "# Function to used the model and apply prediction on the image\n",
    "def apply_prediction(model , image):\n",
    "    try:\n",
    "        result = model.predict(image)\n",
    "        y_pred = np.argmax(result)\n",
    "        print(\"(✔) Prediction is Succsessfully Done....\")\n",
    "    except:\n",
    "        print(\"(X) Error while prediction procoess....\")\n",
    "        return None\n",
    "    return y_pred"
   ]
  },
  {
   "cell_type": "code",
   "execution_count": 4,
   "id": "a0f9b9ae",
   "metadata": {},
   "outputs": [
    {
     "name": "stderr",
     "output_type": "stream",
     "text": [
      "C:\\Users\\Mostafa\\anaconda3\\envs\\capstone\\lib\\site-packages\\keras\\initializers\\initializers_v2.py:120: UserWarning: The initializer RandomNormal is unseeded and being called multiple times, which will return identical values  each time (even if the initializer is unseeded). Please update your code to provide a seed to the initializer, or avoid using the same initalizer instance more than once.\n",
      "  warnings.warn(\n"
     ]
    },
    {
     "name": "stdout",
     "output_type": "stream",
     "text": [
      "(✔) Model with name of 'AMD_SA_ResNet50_SGD_TF_final.h5' is Successfuly Loaded....\n"
     ]
    }
   ],
   "source": [
    "model = load_model(model_path)"
   ]
  },
  {
   "cell_type": "code",
   "execution_count": 5,
   "id": "e607d93f",
   "metadata": {},
   "outputs": [
    {
     "name": "stdout",
     "output_type": "stream",
     "text": [
      "(✔) Image with name of 'Wet_test.JPG' is Successfuly Loaded with size of (491, 574, 3)....\n"
     ]
    }
   ],
   "source": [
    "image = load_image(image_path)"
   ]
  },
  {
   "cell_type": "code",
   "execution_count": 6,
   "id": "1c4e4911",
   "metadata": {},
   "outputs": [
    {
     "name": "stdout",
     "output_type": "stream",
     "text": [
      "(✔) Resizing image from (491, 574, 3) to (448, 448, 3) is Successfuly Done....\n",
      "(✔) Expanding image from '3d' to '4d' is Successfuly Done....\n",
      "(✔) Normalization for conversion of pixel values to [0.0,1.0] is Successfuly Done....\n"
     ]
    }
   ],
   "source": [
    "preprocessed_image = preprocess_image(image , target_size)"
   ]
  },
  {
   "cell_type": "code",
   "execution_count": 7,
   "id": "151d0a78",
   "metadata": {},
   "outputs": [
    {
     "name": "stdout",
     "output_type": "stream",
     "text": [
      "1/1 [==============================] - 2s 2s/step\n",
      "(✔) Prediction is Succsessfully Done....\n"
     ]
    }
   ],
   "source": [
    "y_pred = apply_prediction(model , preprocessed_image)"
   ]
  },
  {
   "cell_type": "code",
   "execution_count": 8,
   "id": "586bb08b",
   "metadata": {},
   "outputs": [
    {
     "name": "stdout",
     "output_type": "stream",
     "text": [
      "The prediction class is 'Wet'\n"
     ]
    }
   ],
   "source": [
    "print(f\"The prediction class is '{grades_classes_dict[y_pred]}'\")"
   ]
  },
  {
   "cell_type": "code",
   "execution_count": null,
   "id": "a61e72da",
   "metadata": {},
   "outputs": [],
   "source": []
  }
 ],
 "metadata": {
  "kernelspec": {
   "display_name": "Python 3 (ipykernel)",
   "language": "python",
   "name": "python3"
  },
  "language_info": {
   "codemirror_mode": {
    "name": "ipython",
    "version": 3
   },
   "file_extension": ".py",
   "mimetype": "text/x-python",
   "name": "python",
   "nbconvert_exporter": "python",
   "pygments_lexer": "ipython3",
   "version": "3.10.9"
  }
 },
 "nbformat": 4,
 "nbformat_minor": 5
}
